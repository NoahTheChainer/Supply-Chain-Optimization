{
  "nbformat": 4,
  "nbformat_minor": 0,
  "metadata": {
    "colab": {
      "provenance": [],
      "toc_visible": true,
      "authorship_tag": "ABX9TyORgX9pH4sHj19QPD8LEQAI",
      "include_colab_link": true
    },
    "kernelspec": {
      "name": "python3",
      "display_name": "Python 3"
    },
    "language_info": {
      "name": "python"
    }
  },
  "cells": [
    {
      "cell_type": "markdown",
      "metadata": {
        "id": "view-in-github",
        "colab_type": "text"
      },
      "source": [
        "<a href=\"https://colab.research.google.com/github/NoahTheChainer/Supply-Chain-Optimization/blob/main/Simple_Resource_Scheduling_Exercise.ipynb\" target=\"_parent\"><img src=\"https://colab.research.google.com/assets/colab-badge.svg\" alt=\"Open In Colab\"/></a>"
      ]
    },
    {
      "cell_type": "code",
      "execution_count": null,
      "metadata": {
        "colab": {
          "base_uri": "https://localhost:8080/"
        },
        "id": "nWRFEho-KVvT",
        "outputId": "a36cb7b2-dde9-43da-c675-5e5ecd4af567"
      },
      "outputs": [
        {
          "output_type": "stream",
          "name": "stdout",
          "text": [
            "Collecting pulp\n",
            "  Downloading PuLP-3.0.2-py3-none-any.whl.metadata (6.7 kB)\n",
            "Downloading PuLP-3.0.2-py3-none-any.whl (17.7 MB)\n",
            "\u001b[2K   \u001b[90m━━━━━━━━━━━━━━━━━━━━━━━━━━━━━━━━━━━━━━━━\u001b[0m \u001b[32m17.7/17.7 MB\u001b[0m \u001b[31m115.3 MB/s\u001b[0m eta \u001b[36m0:00:00\u001b[0m\n",
            "\u001b[?25hInstalling collected packages: pulp\n",
            "Successfully installed pulp-3.0.2\n"
          ]
        }
      ],
      "source": [
        "!pip install pulp\n",
        "from pulp import *"
      ]
    },
    {
      "cell_type": "code",
      "source": [
        "# Initialize Class\n",
        "model = LpProblem(\"Maximize Glass Co. Profits\", LpMaximize)"
      ],
      "metadata": {
        "id": "4S_z5AkhMv3h"
      },
      "execution_count": null,
      "outputs": []
    },
    {
      "cell_type": "code",
      "source": [
        "# Define Decision Variables\n",
        "wine = LpVariable('Wine', lowBound=0, upBound=None, cat='Integer')\n",
        "beer = LpVariable('Beer', lowBound=0, upBound=None, cat='Integer')"
      ],
      "metadata": {
        "id": "P9oh6IA-MsR3"
      },
      "execution_count": null,
      "outputs": []
    },
    {
      "cell_type": "code",
      "source": [
        "# Define Objective Function\n",
        "model += 5 * wine + 4.5 * beer"
      ],
      "metadata": {
        "id": "jusQ17SxMsfn"
      },
      "execution_count": null,
      "outputs": []
    },
    {
      "cell_type": "code",
      "source": [
        "# Define Constraints\n",
        "model += 6 * wine + 5 * beer <= 60\n",
        "model += 10 * wine + 20 * beer <= 150\n",
        "model += wine <= 6"
      ],
      "metadata": {
        "id": "bgxUf7meMsiw"
      },
      "execution_count": null,
      "outputs": []
    },
    {
      "cell_type": "code",
      "source": [
        "# Solve Model\n",
        "model.solve()\n",
        "print(\"Produce {} batches of wine glasses\".format(wine.varValue))\n",
        "print(\"Produce {} batches of beer glasses\".format(beer.varValue))"
      ],
      "metadata": {
        "colab": {
          "base_uri": "https://localhost:8080/"
        },
        "id": "TDSXqXYINsML",
        "outputId": "99cf9596-5abe-464f-871d-277593694b64"
      },
      "execution_count": null,
      "outputs": [
        {
          "output_type": "stream",
          "name": "stdout",
          "text": [
            "Produce 6.0 batches of wine glasses\n",
            "Produce 4.0 batches of beer glasses\n"
          ]
        }
      ]
    },
    {
      "cell_type": "code",
      "source": [],
      "metadata": {
        "id": "3ynFlgt9NsPy"
      },
      "execution_count": null,
      "outputs": []
    }
  ]
}