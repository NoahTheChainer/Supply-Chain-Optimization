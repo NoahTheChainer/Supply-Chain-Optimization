{
  "nbformat": 4,
  "nbformat_minor": 0,
  "metadata": {
    "colab": {
      "provenance": [],
      "authorship_tag": "ABX9TyOM14zTvJJN3+6SGPLDe40+",
      "include_colab_link": true
    },
    "kernelspec": {
      "name": "python3",
      "display_name": "Python 3"
    },
    "language_info": {
      "name": "python"
    }
  },
  "cells": [
    {
      "cell_type": "markdown",
      "metadata": {
        "id": "view-in-github",
        "colab_type": "text"
      },
      "source": [
        "<a href=\"https://colab.research.google.com/github/NoahTheChainer/Supply-Chain-Optimization/blob/main/Sensitivity_in_Optimization.ipynb\" target=\"_parent\"><img src=\"https://colab.research.google.com/assets/colab-badge.svg\" alt=\"Open In Colab\"/></a>"
      ]
    },
    {
      "cell_type": "code",
      "execution_count": null,
      "metadata": {
        "id": "gL-YcbCAaALG"
      },
      "outputs": [],
      "source": [
        "model = LpProblem(\"Production Planning\", LpMinimize)\n",
        "time = [1, 2, 3, 4]\n",
        "s = LpVariable.dicts(\"stock_in\", [0, 1, 2, 3, 4], lowBound=0, cat=\"Integer\")\n",
        "x = LpVariable.dicts(\"prod_in\", time, lowBound=0, cat=\"Integer\")\n",
        "y = LpVariable.dicts(\"plant_on_\", time, lowBound=0, cat=\"Binary\")\n",
        "model += lpSum([d.loc[t,\"unit_prod\"]*x[t] + d.loc[t,\"unit_inv\"]*s[t]\n",
        "                + d.loc[t,\"fixed_setup\"]*y[t] for t in time])\n",
        "s[0] = 100\n",
        "for t in time:\n",
        "    model += s[t-1] + x[t] == d.loc[t,\"demand\"] + s[t]\n",
        "    model += x[t] <= d.loc[t,\"prod_cap\"]*y[t]\n",
        "model.solve()\n",
        "\n",
        "# Print the Constraint Slack\n",
        "o = [{'name':name, 'slack':c.slack}\n",
        "     for name, c in model.constraints.items()]\n",
        "print(pd.DataFrame(o))"
      ]
    },
    {
      "cell_type": "code",
      "source": [],
      "metadata": {
        "id": "pxCbVNepaE-L"
      },
      "execution_count": null,
      "outputs": []
    },
    {
      "cell_type": "code",
      "source": [],
      "metadata": {
        "id": "mfAFPafKaFA_"
      },
      "execution_count": null,
      "outputs": []
    },
    {
      "cell_type": "code",
      "source": [],
      "metadata": {
        "id": "lQTyMFqDaFD3"
      },
      "execution_count": null,
      "outputs": []
    },
    {
      "cell_type": "code",
      "source": [],
      "metadata": {
        "id": "-Czy4anJaFF9"
      },
      "execution_count": null,
      "outputs": []
    }
  ]
}