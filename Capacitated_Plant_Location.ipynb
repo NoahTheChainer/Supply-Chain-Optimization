{
  "nbformat": 4,
  "nbformat_minor": 0,
  "metadata": {
    "colab": {
      "provenance": [],
      "authorship_tag": "ABX9TyM1nAH4H5HPPNMaBUpFkpKU",
      "include_colab_link": true
    },
    "kernelspec": {
      "name": "python3",
      "display_name": "Python 3"
    },
    "language_info": {
      "name": "python"
    }
  },
  "cells": [
    {
      "cell_type": "markdown",
      "metadata": {
        "id": "view-in-github",
        "colab_type": "text"
      },
      "source": [
        "<a href=\"https://colab.research.google.com/github/NoahTheChainer/Supply-Chain-Optimization/blob/main/Capacitated_Plant_Location.ipynb\" target=\"_parent\"><img src=\"https://colab.research.google.com/assets/colab-badge.svg\" alt=\"Open In Colab\"/></a>"
      ]
    },
    {
      "cell_type": "code",
      "execution_count": null,
      "metadata": {
        "id": "kdpXbgELZaBt"
      },
      "outputs": [],
      "source": [
        "# Add noise to the objective function\n",
        "model += lpSum([(X[(c, w)] + (d.loc[c, w] + random.normalvariate(0, 5)))\n",
        "                for w in wh for c in cust])\n",
        "\n",
        "# Call the function 100 times and append results to list\n",
        "output = []\n",
        "for i in range(100):\n",
        "    output.append(run_pulp_model(d))\n",
        "df = pd.DataFrame(output)\n",
        "\n",
        "# Print the value count df series Midwest from Atlanta\n",
        "print(df['Midwest from Atlanta'].value_counts())\n",
        "\n",
        "# Print the value count df series East from Atlanta\n",
        "print(df['East from Atlanta'].value_counts())"
      ]
    },
    {
      "cell_type": "code",
      "source": [],
      "metadata": {
        "id": "AvlXzg29Zn9q"
      },
      "execution_count": null,
      "outputs": []
    },
    {
      "cell_type": "code",
      "source": [],
      "metadata": {
        "id": "Wld5quh9Zn__"
      },
      "execution_count": null,
      "outputs": []
    },
    {
      "cell_type": "code",
      "source": [],
      "metadata": {
        "id": "_bC0jC0OZoCV"
      },
      "execution_count": null,
      "outputs": []
    },
    {
      "cell_type": "code",
      "source": [],
      "metadata": {
        "id": "bU0rPt9bZoFt"
      },
      "execution_count": null,
      "outputs": []
    }
  ]
}